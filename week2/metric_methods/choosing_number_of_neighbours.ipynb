{
 "cells": [
  {
   "cell_type": "code",
   "execution_count": 45,
   "metadata": {},
   "outputs": [],
   "source": [
    "import pandas as pd\n",
    "import numpy as np\n",
    "from sklearn import datasets\n",
    "from sklearn.model_selection import KFold, cross_val_score\n",
    "from sklearn.neighbors import KNeighborsClassifier"
   ]
  },
  {
   "cell_type": "code",
   "execution_count": 46,
   "metadata": {},
   "outputs": [],
   "source": [
    "wine_data = datasets.load_wine(\"./wine.data\")\n",
    "features = wine_data[0]\n",
    "classes = wine_data[1]"
   ]
  },
  {
   "cell_type": "code",
   "execution_count": 47,
   "metadata": {},
   "outputs": [],
   "source": [
    "kf = KFold(n_splits=5, random_state=42, shuffle=True)"
   ]
  },
  {
   "cell_type": "code",
   "execution_count": 52,
   "metadata": {},
   "outputs": [
    {
     "name": "stdout",
     "output_type": "stream",
     "text": [
      "1 0.7304761904761905\n",
      "2 0.6625396825396825\n",
      "3 0.7082539682539682\n",
      "4 0.6577777777777778\n",
      "5 0.6746031746031746\n",
      "6 0.6742857142857144\n",
      "7 0.68\n",
      "8 0.6799999999999999\n",
      "9 0.7023809523809523\n",
      "10 0.6801587301587302\n",
      "11 0.7025396825396826\n",
      "12 0.6966666666666667\n",
      "13 0.6909523809523809\n",
      "14 0.6793650793650794\n",
      "15 0.701904761904762\n",
      "16 0.6795238095238096\n",
      "17 0.7015873015873015\n",
      "18 0.6795238095238095\n",
      "19 0.6793650793650793\n",
      "20 0.6909523809523809\n",
      "21 0.7019047619047619\n",
      "22 0.6965079365079364\n",
      "23 0.7020634920634921\n",
      "24 0.7076190476190476\n",
      "25 0.7019047619047619\n",
      "26 0.6965079365079365\n",
      "27 0.6963492063492064\n",
      "28 0.7079365079365079\n",
      "29 0.7134920634920634\n",
      "30 0.7079365079365079\n",
      "31 0.690952380952381\n",
      "32 0.7134920634920634\n",
      "33 0.7134920634920634\n",
      "34 0.7246031746031747\n",
      "35 0.7246031746031747\n",
      "36 0.7134920634920636\n",
      "37 0.7134920634920634\n",
      "38 0.7134920634920634\n",
      "39 0.7079365079365079\n",
      "40 0.7077777777777777\n",
      "41 0.7134920634920634\n",
      "42 0.7077777777777777\n",
      "43 0.7077777777777777\n",
      "44 0.7077777777777777\n",
      "45 0.7077777777777777\n",
      "46 0.7077777777777777\n",
      "47 0.6966666666666667\n",
      "48 0.7190476190476192\n",
      "49 0.6966666666666667\n",
      "50 0.7077777777777777\n",
      "[1] 0.7304761904761905\n"
     ]
    }
   ],
   "source": [
    "q = dict()\n",
    "\n",
    "for k in range(1, 51):\n",
    "    classifier = KNeighborsClassifier(n_neighbors=k)\n",
    "    quality = cross_val_score(classifier, features, classes, cv=kf, scoring='accuracy')\n",
    "    q[k] = np.mean(quality)\n",
    "    print(k, q[k])\n",
    "    \n",
    "max_accuracy = max(q.values())\n",
    "max_k = [k for k, v in q.items() if v == max_accuracy] \n",
    "print(max_k, max_accuracy)"
   ]
  },
  {
   "cell_type": "markdown",
   "metadata": {},
   "source": [
    "# Ответ на 1 - 1"
   ]
  },
  {
   "cell_type": "markdown",
   "metadata": {},
   "source": [
    "# Ответ на 2 -  0.73"
   ]
  },
  {
   "cell_type": "code",
   "execution_count": 49,
   "metadata": {},
   "outputs": [],
   "source": [
    "from sklearn import preprocessing"
   ]
  },
  {
   "cell_type": "code",
   "execution_count": 50,
   "metadata": {},
   "outputs": [],
   "source": [
    "features_scaled = preprocessing.scale(features)"
   ]
  },
  {
   "cell_type": "code",
   "execution_count": 51,
   "metadata": {},
   "outputs": [
    {
     "name": "stdout",
     "output_type": "stream",
     "text": [
      "[29] 0.9776190476190475\n"
     ]
    }
   ],
   "source": [
    "q = dict()\n",
    "\n",
    "for k in range(1, 51):\n",
    "    classifier = KNeighborsClassifier(n_neighbors=k)\n",
    "    quality = cross_val_score(classifier, features_scaled, classes, cv=kf, scoring='accuracy')\n",
    "    q[k] = np.mean(quality)\n",
    "    \n",
    "max_accuracy = max(q.values())\n",
    "max_k = [k for k, v in q.items() if v == max_accuracy] \n",
    "print(max_k, max_accuracy)"
   ]
  },
  {
   "cell_type": "markdown",
   "metadata": {},
   "source": [
    "# Ответ на 3 - 29 "
   ]
  },
  {
   "cell_type": "markdown",
   "metadata": {},
   "source": [
    "# Ответ на 4 - 0.98 "
   ]
  },
  {
   "cell_type": "code",
   "execution_count": 59,
   "metadata": {},
   "outputs": [
    {
     "name": "stdout",
     "output_type": "stream",
     "text": [
      "1\n",
      "0.73\n"
     ]
    }
   ],
   "source": [
    "data = np.genfromtxt('wine.data', delimiter=',')\n",
    "y = data[:,0]\n",
    "X = data[:,1:]\n",
    " \n",
    "kf = KFold(n_splits=5, random_state=42, shuffle=True)\n",
    " \n",
    "kMeans = list()\n",
    "for k in range(1, 51):\n",
    "    kn = KNeighborsClassifier(n_neighbors=k)\n",
    "    kn.fit(X, y);\n",
    "    array = cross_val_score(estimator=kn, X=X, y=y, cv=kf, scoring='accuracy')\n",
    "    m = array.mean()\n",
    "    kMeans.append(m)   \n",
    " \n",
    "m = max(kMeans)\n",
    "indices = [i for i, j in enumerate(kMeans) if j == m]\n",
    " \n",
    "print(indices[0]+1)\n",
    "print(np.round(m,decimals=2))"
   ]
  },
  {
   "cell_type": "code",
   "execution_count": null,
   "metadata": {},
   "outputs": [],
   "source": []
  }
 ],
 "metadata": {
  "kernelspec": {
   "display_name": "Python 3",
   "language": "python",
   "name": "python3"
  },
  "language_info": {
   "codemirror_mode": {
    "name": "ipython",
    "version": 3
   },
   "file_extension": ".py",
   "mimetype": "text/x-python",
   "name": "python",
   "nbconvert_exporter": "python",
   "pygments_lexer": "ipython3",
   "version": "3.7.6"
  }
 },
 "nbformat": 4,
 "nbformat_minor": 4
}
